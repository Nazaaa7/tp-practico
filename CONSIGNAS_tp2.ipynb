{
 "cells": [
  {
   "cell_type": "markdown",
   "metadata": {},
   "source": [
    "# Criterios de evaluación.\n",
    "\n",
    "* Se deben utilizar nombres de variables descriptivos y claros.\n",
    "* Cada ejercicio debe ser realizado utilizando **FUNCIONES**, NO solo codigo suelto.\n",
    "* Comentarios claros y concisos que expliquen el propósito de cada sección del código.\n",
    "* Entrega en tiempo y forma.\n",
    "* Todo el código desarrollado debe ser subido a un repositorio en GitHub.\n",
    "\n",
    "\n",
    "**Aclaración: Para resolver las actividades se debe incertar casillas de codigo entre cada actividad del cuaderno de Jupyter**"
   ]
  },
  {
   "cell_type": "markdown",
   "metadata": {},
   "source": [
    "### 1. **Bucles**\n",
    "\n",
    "   - **Actividad 1.1**: Escribir un programa que muestre el print de todo lo que el usuario introduzca hasta que el usuario escriba “salir” que terminará.\n",
    "   \n",
    "   - **Actividad 1.2**: Escribir un programa que pida al usuario un número entero y muestre por pantalla un triángulo rectángulo como el de más abajo con la cantidad de escalones indicados previamente (los numeros dentro del triangulo deben ser enteros aleatorios del 0 al 9).\n",
    "* 1\n",
    "* 3 1\n",
    "* 5 3 1\n",
    "* 7 5 3 1\n",
    "* 9 7 5 3 1"
   ]
  },
  {
   "cell_type": "code",
   "execution_count": 17,
   "metadata": {},
   "outputs": [
    {
     "name": "stdout",
     "output_type": "stream",
     "text": [
      "aaaa\n",
      "holaaaa\n",
      "te vassss\n",
      " amorrrr\n",
      "programa finalizado.\n"
     ]
    }
   ],
   "source": [
    "#1.1\n",
    "def repetir_entrada(): #definir funcion\n",
    "    while True: #bucle en verdadero\n",
    "        texto = input(\"Escribí algo ('salir' para terminar): \")\n",
    "        if texto.lower() == \"salir\": #lower pasa todo el texto a minuscula para poder comparar\n",
    "            print(\"programa finalizado.\") #si se cumple la condición, imprime el mensaje\n",
    "            break #se rompe el bucle una vez que el usuario escribe salir\n",
    "        print(texto)\n",
    "\n",
    "# Llamar la función\n",
    "repetir_entrada()\n",
    "\n"
   ]
  },
  {
   "cell_type": "code",
   "execution_count": null,
   "metadata": {},
   "outputs": [
    {
     "name": "stdout",
     "output_type": "stream",
     "text": [
      "4\n",
      "1 2\n",
      "6 3 5\n",
      "9 7 7 1\n"
     ]
    }
   ],
   "source": [
    "#1.2\n",
    "import random #importar la libreria\n",
    "\n",
    "def triangulo(num): #definir la funcion, el parametro es la cantidad de lineas que va a tner el triangulo\n",
    "    for i in range(1, num + 1): #el bucle es para generar la cant de lineas, que arranca en 1 y va hasta num\n",
    "        linea = [] #una lista vacia para  cargar los numeros en el  triangulo en cada iteracion\n",
    "        for j in range(i): # i = nums randoms, genera los números aleatorios de cada línea\n",
    "            numero = random.randint(0, 9) #se llama al modulo randint para tener los numeros al azar, se pasan los parametros de numeros deseados\n",
    "            linea.insert(0, numero)  # se insertan los nums en la lista, y el metodo insert al principio para que aparezca al revés\n",
    "        print(*linea)  \n",
    "        \n",
    "# operador de desempaquetado, lo que hace es tomar la lista linea = [3, 7, 9] y la convierte en print(3, 7, 9)entonces imprime los números separados por espacio, sin corchetes ni comas.\n",
    "\n",
    "# pedir la cant de linea al usuario\n",
    "num_lineas = int(input(\"Ingrese la cantidad de lineas que va a tener el triangulo: \"))\n",
    "triangulo(num_lineas) # se pasa como parametro el num ingresado por el usuario.\n"
   ]
  },
  {
   "cell_type": "markdown",
   "metadata": {},
   "source": [
    "### 2. **Listas y Tuplas**\n",
    "\n",
    "   - **Actividad 1**: Escribir un programa que pida al usuario una frase y muestre por pantalla el número de veces que contiene cada vocal y la cantidad de espacios en blanco.\n",
    "\n",
    "   - **Actividad 2**: Escribir un programa que cree una matriz (con numeros aleatorios del 1 al 100) usando las dimensiones de X e Y que el usuario deberia ingresar por consola, luego crea una tupla con la matriz traspuesta y por ultimo las muestra ambas por consola .\n",
    "\n",
    "   - **Actividad 3**: Escribir un programa que almacene en una lista los siguientes precios, 50, 75, 46, 22, 80, 65, 8, y muestre por pantalla el menor y el mayor de los precios"
   ]
  },
  {
   "cell_type": "code",
   "execution_count": null,
   "metadata": {},
   "outputs": [],
   "source": [
    "#2.1\n",
    "def frases(frase): #definir la funcion pasando como parametro la frase ingresada\n",
    "    frase = frase.lower()  # Convertimos todo a minúsculas para que no haya errores\n",
    "    vocales = \"aeiou\" #definir la variable para despues contar las vocales\n",
    "    \n",
    "    for vocal in vocales: \n",
    "        cantidad = frase.count(vocal)  # Contamos cuántas veces aparece cada vocal\n",
    "        print(f\"La vocal '{vocal}' aparece {cantidad} veces.\") #imprimir la cantidad de vocales\n",
    "    \n",
    "    espacios = frase.count(\" \")  # Contamos los espacios en blanco\n",
    "    print(f\"Hay {espacios} espacios en blanco.\")#imprimir la cantidad de vocales\n",
    "    \n",
    "\n",
    "# Pedimos la frase al usuario\n",
    "texto = input(\"Escriba una frase: \")\n",
    "frases(texto)\n"
   ]
  },
  {
   "cell_type": "code",
   "execution_count": 20,
   "metadata": {},
   "outputs": [
    {
     "name": "stdout",
     "output_type": "stream",
     "text": [
      "\n",
      "Matriz original:\n",
      "[44, 21, 98, 39, 93]\n",
      "[40, 70, 67, 3, 18]\n",
      "[58, 61, 37, 27, 81]\n",
      "[84, 88, 76, 74, 76]\n",
      "[46, 82, 6, 5, 4]\n",
      "[29, 79, 1, 12, 9]\n",
      "[61, 15, 36, 44, 38]\n",
      "\n",
      "Matriz transpuesta (como tupla):\n",
      "(44, 40, 58, 84, 46, 29, 61)\n",
      "(21, 70, 61, 88, 82, 79, 15)\n",
      "(98, 67, 37, 76, 6, 1, 36)\n",
      "(39, 3, 27, 74, 5, 12, 44)\n",
      "(93, 18, 81, 76, 4, 9, 38)\n"
     ]
    }
   ],
   "source": [
    "#2.2\n",
    "import random #importar la libreria para generar números aleatorios\n",
    "\n",
    "def crear_matriz(x, y): #definir la funcion, recibe como parametros la cantidad de filas (x) y columnas (y)\n",
    "    matriz = [] #se crea una lista vacía para almacenar la matriz\n",
    "    for _ in range(x): #bucle para recorrer las filas, se repite x veces\n",
    "        fila = [random.randint(1, 100) for _ in range(y)] #se genera una fila con y números aleatorios entre 1 y 100\n",
    "        matriz.append(fila) #se agrega la fila generada a la matriz\n",
    "    return matriz #retorna la matriz completa\n",
    "\n",
    "def transponer_matriz(matriz): #definir funcion para obtener la matriz transpuesta\n",
    "    transpuesta = list(zip(*matriz)) #se utiliza zip con * para desempaquetar y reordenar filas por columnas\n",
    "    return transpuesta #retorna la matriz transpuesta\n",
    "\n",
    "# pedir las dimensiones al usuario\n",
    "filas = int(input(\"Ingrese cantidad de filas (X): \")) #solicita al usuario la cantidad de filas\n",
    "columnas = int(input(\"Ingrese cantidad de columnas (Y): \")) #solicita al usuario la cantidad de columnas\n",
    "\n",
    "matriz_original = crear_matriz(filas, columnas) #se crea la matriz con las dimensiones dadas\n",
    "matriz_transpuesta = transponer_matriz(matriz_original) #se obtiene la matriz transpuesta a partir de la original\n",
    "\n",
    "print(\"\\nMatriz original:\") #imprime el mensaje\n",
    "for fila in matriz_original: #recorre cada fila de la matriz original\n",
    "    print(fila) #imprime la fila\n",
    "\n",
    "print(\"\\nMatriz transpuesta (como tupla):\") #mensaje para mostrar la transpuesta\n",
    "for fila in matriz_transpuesta: #recorre cada fila de la matriz transpuesta\n",
    "    print(fila) #imprime la fila\n"
   ]
  },
  {
   "cell_type": "code",
   "execution_count": 21,
   "metadata": {},
   "outputs": [
    {
     "name": "stdout",
     "output_type": "stream",
     "text": [
      "El menor precio de la lista es:  8\n",
      "El precio mas alto de la lista es:  80\n"
     ]
    }
   ],
   "source": [
    "# 2.3\n",
    "def lista_de_precios(): #definir la funcion \n",
    "    precios=[50, 75, 46, 22, 80, 65,8] #definir la lista con los precios\n",
    "    menor = min(precios) #usar la funcion min, para encontrar el numero mas bajo, usando como parametro la lista\n",
    "    mayor = max(precios)#usar la funcion max, para encontrar el numero mas alto, usando como parametro la lista\n",
    "    print(\"El menor precio de la lista es: \", menor) #imprimir el mensaje con el num \n",
    "    print(\"El precio mas alto de la lista es: \", mayor)\n",
    "\n",
    "lista_de_precios() #llamar la funcion\n"
   ]
  },
  {
   "cell_type": "markdown",
   "metadata": {},
   "source": [
    "### 3. **Diccionarios**\n",
    "\n",
    "   - **Actividad 1**: Escribir un programa que cree un diccionario simulando una cesta de la compra. El programa debe preguntar el artículo y su precio y añadir el par al diccionario, hasta que el usuario decida terminar. Después se debe mostrar por pantalla la lista de la compra y el coste total, con el siguiente formato.\n",
    "\n",
    "   | arts  |precio |\n",
    "   |-------|-------|\n",
    "   |art 1  |1      |\n",
    "   |art 2  |2      |\n",
    "   |art 3  |3      |\n",
    "   |total  |6      |\n",
    "\n",
    "   - **Actividad 2**: Escribir un programa que cree un diccionario de traducción español-inglés. El usuario introducirá las palabras en español e inglés separadas por dos puntos, y cada par <palabra> : <traducción> separados por comas (es decir, solo se debe usar **UNA VEZ** la función input para la carga de palabras). El programa debe crear un diccionario con las palabras y sus traducciones. Después pedirá una frase en español y utilizará el diccionario para traducirla palabra a palabra. Si una palabra no está en el diccionario debe dejarla sin traducir.\n",
    "\n",
    "   - **Actividad 3**: Escribir un programa que reciba una cadena de caracteres y devuelva un diccionario con cada palabra que contiene y su frecuencia. Escribir otra función que reciba el diccionario generado con la función anterior y devuelva una tupla con la palabra más repetida y su frecuencia."
   ]
  },
  {
   "cell_type": "code",
   "execution_count": null,
   "metadata": {},
   "outputs": [
    {
     "name": "stdout",
     "output_type": "stream",
     "text": [
      "| artículo           | precio |\n",
      "|--------------------|--------|\n",
      "| art1               |  522.0 |\n",
      "| art2               |  411.0 |\n",
      "| art3               |  583.0 |\n",
      "|--------------------|--------|\n",
      "| total              | 1516.0 |\n"
     ]
    }
   ],
   "source": [
    "#3.1\n",
    "# se crea un diccionario vacío para guardar artículos y sus precios\n",
    "cesta = {}\n",
    "\n",
    "# bucle para pedir al usuario los artículos y precios\n",
    "while True:\n",
    "    articulo = input(\"ingrese el nombre del artículo (o escriba 'salir' para terminar): \")\n",
    "    if articulo.lower() == \"salir\": # si el usuario escribe salir, termina el bucle\n",
    "        break\n",
    "    precio = float(input(\"ingrese el precio del artículo: \")) # se convierte el precio a float\n",
    "    cesta[articulo] = precio # se guarda en el diccionario\n",
    "\n",
    "# imprimir encabezado de la tabla\n",
    "print(\"| articulo           | precio |\")\n",
    "print(\"|--------------------|--------|\")\n",
    "\n",
    "# variable para sumar el total\n",
    "total = 0\n",
    "\n",
    "# recorrer el diccionario y mostrar cada artículo con su precio\n",
    "for art, prc in cesta.items():\n",
    "    print(f\"| {art.ljust(18)} | {str(prc).rjust(6)} |\")\n",
    "    total += prc\n",
    "\n",
    "# imprimir la fila del total\n",
    "print(\"|--------------------|--------|\")\n",
    "print(f\"| total              | {str(total).rjust(6)} |\")\n"
   ]
  },
  {
   "cell_type": "code",
   "execution_count": null,
   "metadata": {},
   "outputs": [],
   "source": [
    "\n",
    "#3.2\n",
    "# pedir al usuario que ingrese las palabras y sus traducciones en un solo input\n",
    "entrada = input(\"Ingrese las palabras y traducciones separadas por coma y dos puntos (ej: casa:house, perro:dog): \")\n",
    "\n",
    "# crear un diccionario vacío\n",
    "diccionario = {}\n",
    "\n",
    "# separar la entrada por comas para obtener cada par\n",
    "pares = entrada.split(\",\")  # ['casa:house', 'perro:dog']\n",
    "\n",
    "# recorrer cada par\n",
    "for par in pares:\n",
    "    esp, ing = par.strip().split(\":\")  # separar por ':' cada par, y eliminar espacios\n",
    "    diccionario[esp.strip()] = ing.strip()  # guardar en el diccionario\n",
    "\n",
    "# pedir al usuario una frase en español para traducir\n",
    "frase = input(\"Ingrese una frase en español para traducir: \")\n",
    "\n",
    "# separar la frase en palabras\n",
    "palabras = frase.split()\n",
    "\n",
    "# traducir palabra por palabra\n",
    "traduccion = []\n",
    "\n",
    "for palabra in palabras:\n",
    "    if palabra in diccionario:\n",
    "        traduccion.append(diccionario[palabra])  # si está, se traduce\n",
    "    else:\n",
    "        traduccion.append(palabra)  # si no está, se deja igual\n",
    "\n",
    "# mostrar la frase traducida\n",
    "print(\"Frase traducida:\")\n",
    "print(\" \".join(traduccion))\n"
   ]
  },
  {
   "cell_type": "code",
   "execution_count": null,
   "metadata": {},
   "outputs": [],
   "source": [
    "#3.3\n",
    "\n",
    "# función que recibe una cadena y devuelve un diccionario con frecuencia de palabras\n",
    "def contar_palabras(texto):\n",
    "    palabras = texto.lower().split()  # separar palabras y pasarlas a minúscula\n",
    "    frecuencia = {}  # diccionario vacío\n",
    "\n",
    "    for palabra in palabras: #recorre cada palabra que hay en la lista de palabras del texto\n",
    "        if palabra in frecuencia: #si la palabra ya está como clave en el diccionario 'frecuencia'\n",
    "            frecuencia[palabra] += 1  # si ya está, sumar uno\n",
    "        else:\n",
    "            frecuencia[palabra] = 1  # si no está, iniciar en 1\n",
    "\n",
    "    return frecuencia\n",
    "\n",
    "#función que recibe el diccionario de frecuencias y devuelve la palabra más repetida\n",
    "def mas_repetida(diccionario):\n",
    "    palabra_max = \"\"\n",
    "    cantidad_max = 0\n",
    "\n",
    "    for palabra, cantidad in diccionario.items():\n",
    "        if cantidad > cantidad_max:\n",
    "            palabra_max = palabra\n",
    "            cantidad_max = cantidad\n",
    "\n",
    "    return (palabra_max, cantidad_max)\n",
    "\n",
    "# pedir al usuario un texto\n",
    "texto = input(\"Ingrese una frase o texto: \")\n",
    "\n",
    "# generar el diccionario\n",
    "frecuencias = contar_palabras(texto)\n",
    "\n",
    "#mostrar el diccionario\n",
    "print(\"\\nFrecuencia de palabras:\", frecuencias)\n",
    "\n",
    "# mostrar la palabra más repetida\n",
    "repetida = mas_repetida(frecuencias)\n",
    "print(\"\\nLa palabra más repetida es:\", repetida[0], \"con\", repetida[1], \"apariciones.\")\n"
   ]
  },
  {
   "cell_type": "markdown",
   "metadata": {},
   "source": [
    "### 4. **Funciones**\n",
    "\n",
    "- **Actividad 1**: Escribir una función que calcule el total de una factura tras aplicarle el IVA. La función debe recibir la cantidad sin IVA y el porcentaje de IVA a aplicar, y devolver el total de la factura. Si se invoca la función sin pasarle el porcentaje de IVA, deberá aplicar un 21%.\n",
    "\n",
    "- **Actividad 2**: Escribir una función que reciba un número entero positivo y devuelva su factorial.\n"
   ]
  },
  {
   "cell_type": "code",
   "execution_count": 25,
   "metadata": {},
   "outputs": [
    {
     "name": "stdout",
     "output_type": "stream",
     "text": [
      "el total con iva es: 6050.0\n"
     ]
    }
   ],
   "source": [
    "#4.1\n",
    "# se define una función que calcula el total con iva\n",
    "def factura_total(cantidad, iva=21): # el parametro iva es por defecto de 21%\n",
    "    total = cantidad + (cantidad * iva / 100) # se calcula el total sumando el iva a la cantidad\n",
    "    return total # se devuelve el total calculado\n",
    "\n",
    "# ejemplo de uso\n",
    "monto = float(input(\"ingrese el monto sin iva: \")) # se pide al usuario el monto base\n",
    "print(\"el total con iva es:\", factura_total(monto)) # se muestra el total, usando el iva por defecto del 21%\n"
   ]
  },
  {
   "cell_type": "code",
   "execution_count": 26,
   "metadata": {},
   "outputs": [
    {
     "name": "stdout",
     "output_type": "stream",
     "text": [
      "el factorial de 50 es: 30414093201713378043612608166064768844377641568960512000000000000\n"
     ]
    }
   ],
   "source": [
    "#4.2\n",
    "\n",
    "# se define una función para calcular el factorial de un num\n",
    "def factorial(n):\n",
    "    resultado = 1 # se inicia en 1 porque el factorial parte de multiplicar desde 1\n",
    "    for i in range(1, n + 1): # bucle que va desde 1 hasta n inclusive\n",
    "        resultado *= i # se va multiplicando el resultado por cada número i\n",
    "    return resultado # se devuelve el factorial calculado\n",
    "\n",
    "numero = int(input(\"ingrese un número entero positivo: \")) # se pide el número al usuario\n",
    "print(\"el factorial de\", numero, \"es:\", factorial(numero)) # se muestra el resultado\n"
   ]
  }
 ],
 "metadata": {
  "kernelspec": {
   "display_name": "Python 3",
   "language": "python",
   "name": "python3"
  },
  "language_info": {
   "codemirror_mode": {
    "name": "ipython",
    "version": 3
   },
   "file_extension": ".py",
   "mimetype": "text/x-python",
   "name": "python",
   "nbconvert_exporter": "python",
   "pygments_lexer": "ipython3",
   "version": "3.13.2"
  }
 },
 "nbformat": 4,
 "nbformat_minor": 2
}
